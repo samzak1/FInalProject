{
 "cells": [
  {
   "cell_type": "code",
   "execution_count": 35,
   "metadata": {},
   "outputs": [
    {
     "name": "stdout",
     "output_type": "stream",
     "text": [
      "Temperatures are in degrees C, h is in w/m2k, k is in w2/m2k, length is in meters and pipe radius is in cm\n"
     ]
    },
    {
     "data": {
      "application/vnd.jupyter.widget-view+json": {
       "model_id": "c79bfce852ef405b8584acc42dba1e71",
       "version_major": 2,
       "version_minor": 0
      },
      "text/plain": [
       "interactive(children=(FloatSlider(value=-10.0, description='Fluid_Temp', max=50.0, min=-273.0, step=1.0), Floa…"
      ]
     },
     "metadata": {},
     "output_type": "display_data"
    }
   ],
   "source": [
    "from math import log\n",
    "from ipywidgets import widgets, interact\n",
    "from IPython.display import display\n",
    "%matplotlib inline\n",
    "import seaborn as sbn\n",
    "import matplotlib.pyplot as plt\n",
    "import numpy as np\n",
    "from IPython.core.pylabtools import figsize\n",
    "figsize(12, 10)\n",
    "sbn.set_context(\"talk\", font_scale=1)\n",
    "def Rice(Fluid_temp,\n",
    "             Air_temp,\n",
    "             Fluid_h,\n",
    "             Pipe_k,\n",
    "             Pipe_Length,\n",
    "             Pipe_Radius_Internal,\n",
    "             Pipe_Radius_External,\n",
    "         Water_h=2250,\n",
    "             Air_h=50,\n",
    "             Tsurf=273.15\n",
    "            ):\n",
    "\n",
    "    Tair=(Air_temp+273.15)\n",
    "    WA_h=Air_h/Water_h\n",
    "    L=Pipe_Length\n",
    "    Ri=(Pipe_Radius_Internal*0.01) #m\n",
    "    Ro=(Pipe_Radius_External*0.01) #m\n",
    "    Tfluid=(Fluid_temp+273.15)\n",
    "    Resistance_fluid = 1/(Fluid_h)*(2)*(3.14159)*(Ri)*(L)\n",
    "    Resistance_Pipe=(log((Ro/Ri),2.71828))/(2*3.14*Pipe_k*L)\n",
    "    Resistance_Iceonwall= 1 / (Water_h)*(2)*(3.14159)*(Ro)*(L)\n",
    "    Resistance_Sub=Resistance_fluid+Resistance_Pipe+Resistance_Iceonwall\n",
    "\n",
    "    Rice=-100*((WA_h+1)*(Tsurf-Tair)-(Tfluid-Tair))/(((Resistance_Sub)+(Tsurf-Tair))*(Air_h*2*3.14159*L))\n",
    "    return Rice\n",
    "\n",
    "print (\"Temperatures are in degrees C, h is in w/m2k, k is in w2/m2k, length is in meters and pipe radius is in cm\")\n",
    "@interact(Fluid_Temp=widgets.FloatSlider(value=-10, min=-273, max=50, step=1), \n",
    "          Air_Temp=widgets.FloatSlider(value=25, min=10, max=100, step=1),\n",
    "          h_of_Fluid=widgets.FloatSlider(value=10, min=0.1, max=100, step=.1), \n",
    "          k_of_Pipe=widgets.FloatSlider(value=16, min=0.1, max=100, step=0.1), \n",
    "          Pipe_Length=widgets.FloatSlider(value=1, min=0.1, max=100, step=0.1),\n",
    "          Pipe_R_int=widgets.FloatSlider(value=1, min=0.1, max=20, step=0.1),\n",
    "          Pipe_R_ext=widgets.FloatSlider(value=1.4, min=0.1, max=20, step=0.1))\n",
    "def final(Fluid_Temp,Air_Temp,h_of_Fluid,k_of_Pipe,Pipe_Length,Pipe_R_int,Pipe_R_ext):\n",
    "    ball = Rice(Fluid_temp = Fluid_Temp,\n",
    "             Air_temp = Air_Temp,\n",
    "             Fluid_h = h_of_Fluid,\n",
    "             Pipe_k = k_of_Pipe,\n",
    "             Pipe_Length = Pipe_Length,\n",
    "             Pipe_Radius_Internal = Pipe_R_int,\n",
    "             Pipe_Radius_External = Pipe_R_ext,\n",
    "             Water_h=2250,\n",
    "             Air_h=50,\n",
    "             Tsurf=273.15\n",
    "            )\n",
    "    \n",
    "    if Pipe_R_int > Pipe_R_ext:\n",
    "        return print(\"The internal radius cannot be larger that the external radius\")\n",
    "    if ball>0:\n",
    "        return print(\"The thickness of the ice is {} cm\".format(round(ball, 2)))\n",
    "    else:\n",
    "        return print(\"The thickness of the ice is 0 cm\")"
   ]
  },
  {
   "cell_type": "code",
   "execution_count": null,
   "metadata": {},
   "outputs": [],
   "source": []
  }
 ],
 "metadata": {
  "kernelspec": {
   "display_name": "Python 3",
   "language": "python",
   "name": "python3"
  },
  "language_info": {
   "codemirror_mode": {
    "name": "ipython",
    "version": 3
   },
   "file_extension": ".py",
   "mimetype": "text/x-python",
   "name": "python",
   "nbconvert_exporter": "python",
   "pygments_lexer": "ipython3",
   "version": "3.6.5"
  }
 },
 "nbformat": 4,
 "nbformat_minor": 2
}
