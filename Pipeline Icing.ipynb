{
 "cells": [
  {
   "cell_type": "code",
   "execution_count": 119,
   "metadata": {},
   "outputs": [
    {
     "name": "stdout",
     "output_type": "stream",
     "text": [
      "Temperatures are in degrees C\n",
      "h is in w/m2k\n",
      "k is in w2/m2k\n",
      "length is in meters\n",
      "pipe radius is in cm\n",
      "time is in minutes\n"
     ]
    },
    {
     "data": {
      "application/vnd.jupyter.widget-view+json": {
       "model_id": "37c64fa03ca44413aaa01ebfc283751e",
       "version_major": 2,
       "version_minor": 0
      },
      "text/plain": [
       "interactive(children=(FloatSlider(value=-10.0, description='Fluid_Temp', max=50.0, min=-273.0, step=1.0), Floa…"
      ]
     },
     "metadata": {},
     "output_type": "display_data"
    }
   ],
   "source": [
    "from math import log\n",
    "from math import sqrt\n",
    "from ipywidgets import widgets, interact\n",
    "from IPython.display import display\n",
    "%matplotlib inline\n",
    "import seaborn as sbn\n",
    "import matplotlib.pyplot as plt\n",
    "import numpy as np\n",
    "from IPython.core.pylabtools import figsize\n",
    "from ipywidgets import widgets, interact\n",
    "from IPython.display import display\n",
    "%matplotlib inline\n",
    "import seaborn as sbn\n",
    "import matplotlib.pyplot as plt\n",
    "import numpy as np\n",
    "from IPython.core.pylabtools import figsize\n",
    "figsize(12, 10)\n",
    "sbn.set_context(\"talk\", font_scale=1)\n",
    "figsize(12, 10)\n",
    "sbn.set_context(\"talk\", font_scale=1)\n",
    "def Rice(Fluid_temp,\n",
    "             Air_temp,\n",
    "             Fluid_h,\n",
    "             Pipe_k,\n",
    "             Pipe_Radius_Internal,\n",
    "             Pipe_Radius_External,\n",
    "         Pipe_Length=1,\n",
    "         Water_h=2250,\n",
    "             Air_h=50,\n",
    "             Tsurf=273.15\n",
    "            ):\n",
    "\n",
    "    Tair=(Air_temp+273.15)\n",
    "    WA_h=Air_h/Water_h\n",
    "    L=Pipe_Length\n",
    "    Ri=(Pipe_Radius_Internal*0.01) #m\n",
    "    Ro=(Pipe_Radius_External*0.01) #m\n",
    "    Tfluid=(Fluid_temp+273.15)\n",
    "    Resistance_fluid = 1/(Fluid_h)*(2)*(3.14159)*(Ri)*(L)\n",
    "    Resistance_Pipe=(log((Ro/Ri),2.71828))/(2*3.14*Pipe_k*L)\n",
    "    Resistance_Iceonwall= 1 / (Water_h)*(2)*(3.14159)*(Ro)*(L)\n",
    "    Resistance_Sub=Resistance_fluid+Resistance_Pipe+Resistance_Iceonwall\n",
    "\n",
    "    Rice=-100*((WA_h+1)*(Tsurf-Tair)-(Tfluid-Tair))/(((Resistance_Sub)+(Tsurf-Tair))*(Air_h*2*3.14159*L))\n",
    "    return Rice\n",
    "def Rate(Air_temp,\n",
    "        Fluid_temp,\n",
    "         time,\n",
    "         k=2.22,\n",
    "         roe=1000,\n",
    "         Hia=10,\n",
    "         fusion=334 #j\n",
    "        ):\n",
    "\n",
    "    Tair=(Air_temp+273.15)\n",
    "    Tfluid=(Fluid_temp+273.15)\n",
    "    t=(time*30)\n",
    "\n",
    "    Rate=sqrt(((2*k)/(roe*fusion))*(abs(Tfluid-Tair))*t+((k/Hia)*(k/Hia)))-(k/Hia)\n",
    "    return Rate\n",
    "\n",
    "print (\"Temperatures are in degrees C\\nh is in w/m2k\\nk is in w2/m2k\\nlength is in meters\\npipe radius is in cm\\ntime is in minutes\")\n",
    "@interact(Fluid_Temp=widgets.FloatSlider(value=-10, min=-273, max=50, step=1), \n",
    "          Air_Temp=widgets.FloatSlider(value=25, min=10, max=100, step=1),\n",
    "          h_of_Fluid=widgets.FloatSlider(value=10, min=0.1, max=100, step=.1), \n",
    "          k_of_Pipe=widgets.FloatSlider(value=16, min=0.1, max=100, step=0.1), \n",
    "          Pipe_R_int=widgets.FloatSlider(value=1, min=0.1, max=20, step=0.1),\n",
    "          Pipe_R_ext=widgets.FloatSlider(value=1, min=0.1, max=20, step=0.1),\n",
    "          time=widgets.FloatSlider(value=5, min=0, max=100, step=.5))\n",
    "def final(Fluid_Temp,Air_Temp,h_of_Fluid,k_of_Pipe,Pipe_R_int,Pipe_R_ext,time):\n",
    "    ball = Rice(Fluid_temp = Fluid_Temp,\n",
    "             Air_temp = Air_Temp,\n",
    "             Fluid_h = h_of_Fluid,\n",
    "             Pipe_k = k_of_Pipe,\n",
    "             Pipe_Radius_Internal = Pipe_R_int,\n",
    "             Pipe_Radius_External = Pipe_R_ext,\n",
    "            Pipe_Length = 1,\n",
    "             Water_h=2250,\n",
    "             Air_h=50,\n",
    "             Tsurf=273.15\n",
    "                )\n",
    "    growth = Rate(Fluid_temp = Fluid_Temp,\n",
    "             Air_temp = Air_Temp,\n",
    "             time = time,\n",
    "             k=2.22,\n",
    "             roe=1000,\n",
    "             Hia=10,\n",
    "             fusion=334\n",
    "                         )\n",
    "\n",
    "    \n",
    "    if Pipe_R_int > Pipe_R_ext:\n",
    "        return print(\"The internal radius cannot be larger that the external radius\")\n",
    "    if ball>0 and growth<ball:\n",
    "        return print(\"The current thickness of the ice is {} cm\".format(round(growth, 2)),\"\\nThe max thickness of the ice is {} cm\".format(round(ball, 2)))\n",
    "    if ball>0 and growth>=ball:\n",
    "        return print(\"The current thickness of the ice is {} cm\".format(round(ball, 2)),\"\\nThe max thickness of the ice is {} cm\".format(round(ball, 2)))\n",
    "    else:\n",
    "        return print(\"The thickness of the ice is 0 cm\")"
   ]
  },
  {
   "cell_type": "code",
   "execution_count": 142,
   "metadata": {},
   "outputs": [
    {
     "ename": "TypeError",
     "evalue": "only size-1 arrays can be converted to Python scalars",
     "output_type": "error",
     "traceback": [
      "\u001b[0;31m---------------------------------------------------------------------------\u001b[0m",
      "\u001b[0;31mTypeError\u001b[0m                                 Traceback (most recent call last)",
      "\u001b[0;32m<ipython-input-142-ede20ce3ffc4>\u001b[0m in \u001b[0;36m<module>\u001b[0;34m()\u001b[0m\n\u001b[1;32m     23\u001b[0m                  \u001b[0mmc_k_of_Pipe\u001b[0m\u001b[0;34m,\u001b[0m\u001b[0;34m\u001b[0m\u001b[0m\n\u001b[1;32m     24\u001b[0m                  \u001b[0mmc_Ri\u001b[0m\u001b[0;34m,\u001b[0m\u001b[0;34m\u001b[0m\u001b[0m\n\u001b[0;32m---> 25\u001b[0;31m                  \u001b[0mmc_Ro\u001b[0m\u001b[0;34m\u001b[0m\u001b[0m\n\u001b[0m\u001b[1;32m     26\u001b[0m                  )\n",
      "\u001b[0;32m<ipython-input-119-ceea45e33b3c>\u001b[0m in \u001b[0;36mRice\u001b[0;34m(Fluid_temp, Air_temp, Fluid_h, Pipe_k, Pipe_Radius_Internal, Pipe_Radius_External, Pipe_Length, Water_h, Air_h, Tsurf)\u001b[0m\n\u001b[1;32m     38\u001b[0m     \u001b[0mTfluid\u001b[0m\u001b[0;34m=\u001b[0m\u001b[0;34m(\u001b[0m\u001b[0mFluid_temp\u001b[0m\u001b[0;34m+\u001b[0m\u001b[0;36m273.15\u001b[0m\u001b[0;34m)\u001b[0m\u001b[0;34m\u001b[0m\u001b[0m\n\u001b[1;32m     39\u001b[0m     \u001b[0mResistance_fluid\u001b[0m \u001b[0;34m=\u001b[0m \u001b[0;36m1\u001b[0m\u001b[0;34m/\u001b[0m\u001b[0;34m(\u001b[0m\u001b[0mFluid_h\u001b[0m\u001b[0;34m)\u001b[0m\u001b[0;34m*\u001b[0m\u001b[0;34m(\u001b[0m\u001b[0;36m2\u001b[0m\u001b[0;34m)\u001b[0m\u001b[0;34m*\u001b[0m\u001b[0;34m(\u001b[0m\u001b[0;36m3.14159\u001b[0m\u001b[0;34m)\u001b[0m\u001b[0;34m*\u001b[0m\u001b[0;34m(\u001b[0m\u001b[0mRi\u001b[0m\u001b[0;34m)\u001b[0m\u001b[0;34m*\u001b[0m\u001b[0;34m(\u001b[0m\u001b[0mL\u001b[0m\u001b[0;34m)\u001b[0m\u001b[0;34m\u001b[0m\u001b[0m\n\u001b[0;32m---> 40\u001b[0;31m     \u001b[0mResistance_Pipe\u001b[0m\u001b[0;34m=\u001b[0m\u001b[0;34m(\u001b[0m\u001b[0mlog\u001b[0m\u001b[0;34m(\u001b[0m\u001b[0;34m(\u001b[0m\u001b[0mRo\u001b[0m\u001b[0;34m/\u001b[0m\u001b[0mRi\u001b[0m\u001b[0;34m)\u001b[0m\u001b[0;34m,\u001b[0m\u001b[0;36m2.71828\u001b[0m\u001b[0;34m)\u001b[0m\u001b[0;34m)\u001b[0m\u001b[0;34m/\u001b[0m\u001b[0;34m(\u001b[0m\u001b[0;36m2\u001b[0m\u001b[0;34m*\u001b[0m\u001b[0;36m3.14\u001b[0m\u001b[0;34m*\u001b[0m\u001b[0mPipe_k\u001b[0m\u001b[0;34m*\u001b[0m\u001b[0mL\u001b[0m\u001b[0;34m)\u001b[0m\u001b[0;34m\u001b[0m\u001b[0m\n\u001b[0m\u001b[1;32m     41\u001b[0m     \u001b[0mResistance_Iceonwall\u001b[0m\u001b[0;34m=\u001b[0m \u001b[0;36m1\u001b[0m \u001b[0;34m/\u001b[0m \u001b[0;34m(\u001b[0m\u001b[0mWater_h\u001b[0m\u001b[0;34m)\u001b[0m\u001b[0;34m*\u001b[0m\u001b[0;34m(\u001b[0m\u001b[0;36m2\u001b[0m\u001b[0;34m)\u001b[0m\u001b[0;34m*\u001b[0m\u001b[0;34m(\u001b[0m\u001b[0;36m3.14159\u001b[0m\u001b[0;34m)\u001b[0m\u001b[0;34m*\u001b[0m\u001b[0;34m(\u001b[0m\u001b[0mRo\u001b[0m\u001b[0;34m)\u001b[0m\u001b[0;34m*\u001b[0m\u001b[0;34m(\u001b[0m\u001b[0mL\u001b[0m\u001b[0;34m)\u001b[0m\u001b[0;34m\u001b[0m\u001b[0m\n\u001b[1;32m     42\u001b[0m     \u001b[0mResistance_Sub\u001b[0m\u001b[0;34m=\u001b[0m\u001b[0mResistance_fluid\u001b[0m\u001b[0;34m+\u001b[0m\u001b[0mResistance_Pipe\u001b[0m\u001b[0;34m+\u001b[0m\u001b[0mResistance_Iceonwall\u001b[0m\u001b[0;34m\u001b[0m\u001b[0m\n",
      "\u001b[0;31mTypeError\u001b[0m: only size-1 arrays can be converted to Python scalars"
     ]
    }
   ],
   "source": [
    "number_sims = 1000\n",
    "\n",
    "# Make some random data in the correct ranges\n",
    "mc_Fluid_Temp = np.random.uniform(2.3, 22, number_sims)\n",
    "mc_Air_Temp = np.random.uniform(50, 100, number_sims)\n",
    "mc_h_of_Fluid = np.random.uniform(0, 80, number_sims)\n",
    "mc_k_of_Pipe = np.random.uniform(0, 80, number_sims)\n",
    "mc_Ri = np.random.uniform(0.5, 24, number_sims)\n",
    "mc_Ro = np.random.uniform(0.5, 24, number_sims)\n",
    "\n",
    "\n",
    "data = np.array((mc_Fluid_Temp, \n",
    "                 mc_Air_Temp, \n",
    "                 mc_h_of_Fluid, \n",
    "                 mc_k_of_Pipe, \n",
    "                 mc_Ri,\n",
    "                 mc_Ro\n",
    "                 ))\n",
    "\n",
    "y = Rice(mc_Fluid_Temp, \n",
    "                 mc_Air_Temp, \n",
    "                 mc_h_of_Fluid, \n",
    "                 mc_k_of_Pipe, \n",
    "                 mc_Ri,\n",
    "                 mc_Ro\n",
    "                 )\n"
   ]
  },
  {
   "cell_type": "code",
   "execution_count": null,
   "metadata": {},
   "outputs": [],
   "source": []
  }
 ],
 "metadata": {
  "kernelspec": {
   "display_name": "Python 3",
   "language": "python",
   "name": "python3"
  },
  "language_info": {
   "codemirror_mode": {
    "name": "ipython",
    "version": 3
   },
   "file_extension": ".py",
   "mimetype": "text/x-python",
   "name": "python",
   "nbconvert_exporter": "python",
   "pygments_lexer": "ipython3",
   "version": "3.6.5"
  }
 },
 "nbformat": 4,
 "nbformat_minor": 2
}
